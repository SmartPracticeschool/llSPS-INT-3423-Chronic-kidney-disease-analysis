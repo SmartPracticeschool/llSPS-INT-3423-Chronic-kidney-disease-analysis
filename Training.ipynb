{
 "cells": [
  {
   "cell_type": "code",
   "execution_count": null,
   "metadata": {},
   "outputs": [],
   "source": [
    "import pandas as pd\n",
    "import numpy as np\n",
    "import seaborn as sns\n",
    "import matplotlib.pyplot as plt\n",
    "from sklearn.model_selection import train_test_split\n",
    "from sklearn.tree import DecisionTreeClassifier\n",
    "from sklearn.preprocessing import LabelEncoder,StandardScaler\n",
    "from sklearn.metrics import r2_score\n",
    "df=pd.read_csv(r'C:\\Users\\chathura\\Desktop\\py_freq\\kidney_disease.csv')\n",
    "#Cleaning the DataSet\n",
    "print(df.describe())\n",
    "#print(df.isnull().any())\n",
    "df.fillna(df.mean(),inplace=True)\n",
    "df.dropna(axis=0,inplace=True)\n",
    "print(df.isnull().any())\n",
    "print(df.shape)\n",
    "cor_df=df.corr()\n",
    "sns.heatmap(cor_df)\t\n",
    "plt.show()\n",
    "#Feature Selection\n",
    "#We can see that the correlation values of Age,Id,BP, has the least signficance. So I proceed further leaving them out.\n",
    "l=df.columns[3:]\n",
    "X=df.iloc[:,3:25].values\n",
    "y=df.iloc[:,25:26].values\n",
    "#LabelEncoder for Categorical Variables\n",
    "#No need for OneHotCoding , because all the categorical varibles have only two variations\n",
    "lb=LabelEncoder()\n",
    "for i in range(3,7):\n",
    "    X[:,i]=lb.fit_transform(X[:,i])\n",
    "for i in range(16,22):\n",
    "    X[:,i]=lb.fit_transform(X[:,i])\n",
    "y[:,0]=lb.fit_transform(y[:,0])\n",
    "#Splitting the DataSet into Training and Testing parts\n",
    "X_train,X_test,y_train,y_test = train_test_split(X,y,test_size=0.4,random_state=0)\n",
    "#Scaling the data\n",
    "sc=StandardScaler()\n",
    "X_train=sc.fit_transform(X_train)\n",
    "X_test=sc.fit_transform(X_test)\n",
    "y_train=y_train.astype('int')"
   ]
  }
 ],
 "metadata": {
  "kernelspec": {
   "display_name": "Python 3",
   "language": "python",
   "name": "python3"
  },
  "language_info": {
   "codemirror_mode": {
    "name": "ipython",
    "version": 3
   },
   "file_extension": ".py",
   "mimetype": "text/x-python",
   "name": "python",
   "nbconvert_exporter": "python",
   "pygments_lexer": "ipython3",
   "version": "3.7.0"
  }
 },
 "nbformat": 4,
 "nbformat_minor": 4
}
